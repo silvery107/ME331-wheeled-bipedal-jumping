{
 "metadata": {
  "language_info": {
   "codemirror_mode": {
    "name": "ipython",
    "version": 3
   },
   "file_extension": ".py",
   "mimetype": "text/x-python",
   "name": "python",
   "nbconvert_exporter": "python",
   "pygments_lexer": "ipython3",
   "version": "3.8.3"
  },
  "orig_nbformat": 2,
  "kernelspec": {
   "name": "python3",
   "display_name": "Python 3.8.3 64-bit ('base': conda)"
  },
  "interpreter": {
   "hash": "b3ba2566441a7c06988d0923437866b63cedc61552a5af99d1f4fb67d367b25f"
  }
 },
 "nbformat": 4,
 "nbformat_minor": 2,
 "cells": [
  {
   "cell_type": "code",
   "execution_count": null,
   "source": [
    "import cv2\r\n",
    "import os\r\n",
    "import numpy as np\r\n",
    "import matplotlib.pyplot as plt\r\n",
    "%matplotlib inline"
   ],
   "outputs": [],
   "metadata": {}
  },
  {
   "cell_type": "code",
   "execution_count": null,
   "source": [
    "img_head = None\r\n",
    "img_seq = []\r\n",
    "for root,dirs,files in os.walk(\"./screenshot\"):\r\n",
    "    # print(root)\r\n",
    "    for file in files:\r\n",
    "        # print(file)\r\n",
    "        if file[-3:]==\"jpg\":\r\n",
    "            continue\r\n",
    "        img = cv2.imread(os.path.join(root,file))\r\n",
    "        img = cv2.cvtColor(img, cv2.COLOR_BGR2RGB)\r\n",
    "        img = np.array(img, dtype=np.float32)\r\n",
    "        img_seq.append(img)\r\n",
    "        if img_head is None:\r\n",
    "            img_head = img\r\n",
    "            \r\n",
    "img_head_gray = cv2.cvtColor(img_head,cv2.COLOR_RGB2GRAY).astype('uint8')\r\n",
    "# plt.imshow(img_head.astype('uint8'))\r\n",
    "# plt.show()"
   ],
   "outputs": [],
   "metadata": {
    "tags": []
   }
  },
  {
   "cell_type": "code",
   "execution_count": null,
   "source": [
    "backSub = cv2.createBackgroundSubtractorMOG2()\r\n",
    "backSub.apply(img_head)\r\n",
    "kernel = cv2.getGaussianKernel(3,1)\r\n",
    "fgmasks = []\r\n",
    "fgmask_inv = []\r\n",
    "for img in img_seq[1:]:\r\n",
    "    fgMask = backSub.apply(img)\r\n",
    "    fgMask = cv2.morphologyEx(fgMask,cv2.MORPH_CLOSE,kernel,iterations=10)\r\n",
    "    _,fgMask = cv2.threshold(fgMask,125,255,cv2.THRESH_BINARY)\r\n",
    "    fg_inv = cv2.bitwise_not(fgMask)\r\n",
    "    fgmasks.append(fgMask)\r\n",
    "    fgmask_inv.append(fg_inv)\r\n",
    "    # plt.imshow(fgMask, cmap='gray')\r\n",
    "    # plt.show()"
   ],
   "outputs": [],
   "metadata": {}
  },
  {
   "cell_type": "code",
   "execution_count": null,
   "source": [
    "img_composite = img_head\r\n",
    "for frame, fg, fg_inv in zip(img_seq[1:], fgmasks, fgmask_inv):\r\n",
    "    img_composite = cv2.bitwise_and(img_composite, img_composite, mask=fg_inv)\r\n",
    "    img_composite += cv2.bitwise_and(frame, frame, mask=fg)\r\n",
    "\r\n",
    "img_composite_8u = img_composite.astype(np.uint8)\r\n",
    "plt.imshow(img_composite_8u)\r\n",
    "plt.show()"
   ],
   "outputs": [],
   "metadata": {}
  }
 ]
}